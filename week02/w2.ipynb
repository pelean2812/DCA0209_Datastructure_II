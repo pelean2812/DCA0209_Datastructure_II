{
 "cells": [
  {
   "cell_type": "code",
   "execution_count": 20,
   "metadata": {},
   "outputs": [],
   "source": [
    "from csv import reader\n",
    "\n",
    "#Nessa classe foram juntadas várias funções da solução original do problema do dataquest\n",
    "class Dataset():\n",
    "    def __init__(self, arquivo_csv):\n",
    "        opened_file = open(arquivo_csv, encoding=\"utf8\")\n",
    "        read_file = reader(opened_file)\n",
    "        \n",
    "        dataset = list(read_file)\n",
    "        header = dataset[0]\n",
    "        dataset = dataset[1:]\n",
    "        \n",
    "        self.header = header\n",
    "        self.dataset = dataset\n",
    "\n",
    "    def explore_data(self,start, end, rows_and_columns=False):\n",
    "        dataset_slice = self.dataset[start:end]    \n",
    "        for row in dataset_slice:\n",
    "          print(row)\n",
    "          print('\\n') # adds a new (empty) line between rows\n",
    "\n",
    "        if rows_and_columns:\n",
    "          print('Number of rows:', len(self.dataset))\n",
    "          print('Number of columns:', len(self.dataset[0])) \n",
    "\n",
    "    def delete_line(self,line):\n",
    "        del self.dataset[line]\n",
    "    \n",
    "    def duplicate_items(self, p_header, duplicate=True):\n",
    "        duplicate_lines = []\n",
    "        unique_lines = []\n",
    "        for line in self.dataset:\n",
    "          item = line[p_header]\n",
    "          if item in unique_lines:\n",
    "            duplicate_lines.append(item)\n",
    "          else:\n",
    "            unique_lines.append(item)\n",
    "\n",
    "        print(\"Number of duplicate:\", (len(duplicate_lines) if duplicate else unique_lines))\n",
    "\n",
    "    def is_english(string):\n",
    "      non_ascii = 0\n",
    "\n",
    "      for character in string:\n",
    "          if ord(character) > 127:\n",
    "              non_ascii += 1\n",
    "      return False if  non_ascii > 3 else True\n",
    "\n",
    "    def no_english_items(self , parameter):\n",
    "        no_english_list = []\n",
    "        for line in self.dataset:\n",
    "          if Dataset.is_english(line[parameter]) == False:\n",
    "            no_english_list.append(line[parameter])\n",
    "        print(\"Number of no English Items: \", len(no_english_list))\n",
    "\n",
    "    def clean_no_english_items(self,parameter):\n",
    "        no_english_list = []\n",
    "        for line in self.dataset:\n",
    "          if Dataset.is_english(line[parameter]) == False:\n",
    "            Dataset.delete_line(self,self.dataset.index(line))\n",
    "        return self.dataset\n",
    "\n",
    "    def only_free(self, column):\n",
    "        dataset_free = []\n",
    "        for app in self.dataset:\n",
    "          price = app[column]\n",
    "          if price == '0' or price == '0.0':\n",
    "            dataset_free.append(app)\n",
    "        self.dataset = dataset_free\n",
    "\n",
    "    def freq_table(self, index):\n",
    "        table = {}\n",
    "        total = 0\n",
    "        for row in self.dataset:\n",
    "            total += 1\n",
    "            value = row[index]\n",
    "            if value in table:\n",
    "                table[value] += 1\n",
    "            else:\n",
    "                table[value] = 1\n",
    "        \n",
    "        table_percentages = {}\n",
    "        \n",
    "        for key in table:\n",
    "            percentage = (table[key] / total) * 100\n",
    "            table_percentages[key] = percentage \n",
    "    \n",
    "        return table_percentages\n",
    "\n",
    "\n",
    "    def display_table(self, index):\n",
    "        table = Dataset.freq_table(self, index)\n",
    "        table_display = []\n",
    "        for key in table:\n",
    "            key_val_as_tuple = (table[key], key)\n",
    "            table_display.append(key_val_as_tuple)\n",
    "        \n",
    "        table_sorted = sorted(table_display, reverse = True)\n",
    "        for entry in table_sorted:\n",
    "            print(entry[1], ':', entry[0])\n",
    "          "
   ]
  },
  {
   "cell_type": "markdown",
   "metadata": {},
   "source": [
    "# Instâncias da classe Dataset passando como parâmetros os arquivos .csv dos apps de cada loja de aplicativos"
   ]
  },
  {
   "cell_type": "code",
   "execution_count": 21,
   "metadata": {},
   "outputs": [],
   "source": [
    "ios_apps_dataset = Dataset('googleplaystore.csv')\n",
    "android_apps_dataset = Dataset('AppleStore.csv')"
   ]
  },
  {
   "cell_type": "markdown",
   "metadata": {},
   "source": [
    "# Exemplos de uso da Classe Dataset:"
   ]
  },
  {
   "cell_type": "markdown",
   "metadata": {},
   "source": [
    "- Printando os cabeçalhos das planilhas"
   ]
  },
  {
   "cell_type": "code",
   "execution_count": 22,
   "metadata": {},
   "outputs": [
    {
     "name": "stdout",
     "output_type": "stream",
     "text": [
      "['', 'id', 'track_name', 'size_bytes', 'currency', 'price', 'rating_count_tot', 'rating_count_ver', 'user_rating', 'user_rating_ver', 'ver', 'cont_rating', 'prime_genre', 'sup_devices.num', 'ipadSc_urls.num', 'lang.num', 'vpp_lic']\n",
      "['App', 'Category', 'Rating', 'Reviews', 'Size', 'Installs', 'Type', 'Price', 'Content Rating', 'Genres', 'Last Updated', 'Current Ver', 'Android Ver']\n"
     ]
    }
   ],
   "source": [
    "print(android_apps_dataset.header) #printa apenas os cabeçalhos da planilha de apps da google play\n",
    "print(ios_apps_dataset.header) #printa apenas os cabeçalhos da planilha de apps da apple store"
   ]
  },
  {
   "cell_type": "markdown",
   "metadata": {},
   "source": [
    "Ao rodar o código acima, o resultado deve ser este:\n",
    "\n",
    "```\n",
    "['', 'id', 'track_name', 'size_bytes', 'currency', 'price', 'rating_count_tot', 'rating_count_ver', 'user_rating', 'user_rating_ver', 'ver', 'cont_rating', 'prime_genre', 'sup_devices.num', 'ipadSc_urls.num', 'lang.num', 'vpp_lic']\n",
    "\n",
    "['App', 'Category', 'Rating', 'Reviews', 'Size', 'Installs', 'Type', 'Price', 'Content Rating', 'Genres', 'Last Updated', 'Current Ver', 'Android Ver']\n",
    "```"
   ]
  },
  {
   "cell_type": "markdown",
   "metadata": {},
   "source": [
    "- \"Explorando\" o dataset do android (iremos percorrer desde o cabeçalho até a linha 3 da planilha dos apps do android)"
   ]
  },
  {
   "cell_type": "code",
   "execution_count": 25,
   "metadata": {},
   "outputs": [
    {
     "name": "stdout",
     "output_type": "stream",
     "text": [
      "['1', '281656475', 'PAC-MAN Premium', '100788224', 'USD', '3.99', '21292', '26', '4', '4.5', '6.3.5', '4+', 'Games', '38', '5', '10', '1']\n",
      "\n",
      "\n",
      "['2', '281796108', 'Evernote - stay organized', '158578688', 'USD', '0', '161065', '26', '4', '3.5', '8.2.2', '4+', 'Productivity', '37', '5', '23', '1']\n",
      "\n",
      "\n",
      "['3', '281940292', 'WeatherBug - Local Weather, Radar, Maps, Alerts', '100524032', 'USD', '0', '188583', '2822', '3.5', '4.5', '5.0.0', '4+', 'Weather', '37', '5', '3', '1']\n",
      "\n",
      "\n",
      "Number of rows: 7197\n",
      "Number of columns: 17\n"
     ]
    }
   ],
   "source": [
    "android_apps_dataset.explore_data(0, 3, True)"
   ]
  },
  {
   "cell_type": "markdown",
   "metadata": {},
   "source": [
    "---\n",
    "Ao executar o código acima, o resultado esperado é este:\n",
    "\n",
    "```\n",
    "['1', '281656475', 'PAC-MAN Premium', '100788224', 'USD', '3.99', '21292', '26', '4', '4.5', '6.3.5', '4+', 'Games', '38', '5', '10', '1']\n",
    "\n",
    "\n",
    "['2', '281796108', 'Evernote - stay organized', '158578688', 'USD', '0', '161065', '26', '4', '3.5', '8.2.2', '4+', 'Productivity', '37', '5', '23', '1']\n",
    "\n",
    "\n",
    "['3', '281940292', 'WeatherBug - Local Weather, Radar, Maps, Alerts', '100524032', 'USD', '0', '188583', '2822', '3.5', '4.5', '5.0.0', '4+', 'Weather', '37', '5', '3', '1']\n",
    "\n",
    "\n",
    "Number of rows: 7197\n",
    "Number of columns: 17\n",
    "```"
   ]
  },
  {
   "cell_type": "markdown",
   "metadata": {},
   "source": [
    "- Pode-se utilizar os diversos outros métodos dessa classe normalmente. Estes foram apenas alguns exemplos."
   ]
  },
  {
   "cell_type": "markdown",
   "metadata": {},
   "source": []
  }
 ],
 "metadata": {
  "kernelspec": {
   "display_name": "Python 3.9.5 64-bit",
   "language": "python",
   "name": "python3"
  },
  "language_info": {
   "codemirror_mode": {
    "name": "ipython",
    "version": 3
   },
   "file_extension": ".py",
   "mimetype": "text/x-python",
   "name": "python",
   "nbconvert_exporter": "python",
   "pygments_lexer": "ipython3",
   "version": "3.9.5"
  },
  "orig_nbformat": 4,
  "vscode": {
   "interpreter": {
    "hash": "b1f8a6fcfad2dbcea449451b8abb957fc6ba936417d4b53d6b4b7c7246c13c98"
   }
  }
 },
 "nbformat": 4,
 "nbformat_minor": 2
}
