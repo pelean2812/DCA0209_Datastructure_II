{
 "cells": [
  {
   "cell_type": "code",
   "execution_count": 1,
   "metadata": {},
   "outputs": [
    {
     "name": "stdout",
     "output_type": "stream",
     "text": [
      "Requirement already satisfied: pytest in c:\\users\\pedro\\appdata\\local\\programs\\python\\python39\\lib\\site-packages (7.1.3)\n",
      "Requirement already satisfied: pytest-sugar in c:\\users\\pedro\\appdata\\local\\programs\\python\\python39\\lib\\site-packages (0.9.5)\n",
      "Requirement already satisfied: iniconfig in c:\\users\\pedro\\appdata\\local\\programs\\python\\python39\\lib\\site-packages (from pytest) (1.1.1)\n",
      "Requirement already satisfied: pluggy<2.0,>=0.12 in c:\\users\\pedro\\appdata\\local\\programs\\python\\python39\\lib\\site-packages (from pytest) (1.0.0)\n",
      "Requirement already satisfied: tomli>=1.0.0 in c:\\users\\pedro\\appdata\\local\\programs\\python\\python39\\lib\\site-packages (from pytest) (2.0.1)\n",
      "Requirement already satisfied: py>=1.8.2 in c:\\users\\pedro\\appdata\\local\\programs\\python\\python39\\lib\\site-packages (from pytest) (1.11.0)\n",
      "Requirement already satisfied: colorama in c:\\users\\pedro\\appdata\\local\\programs\\python\\python39\\lib\\site-packages (from pytest) (0.4.5)\n",
      "Requirement already satisfied: packaging in c:\\users\\pedro\\appdata\\local\\programs\\python\\python39\\lib\\site-packages (from pytest) (21.3)\n",
      "Requirement already satisfied: attrs>=19.2.0 in c:\\users\\pedro\\appdata\\local\\programs\\python\\python39\\lib\\site-packages (from pytest) (22.1.0)\n",
      "Requirement already satisfied: termcolor>=1.1.0 in c:\\users\\pedro\\appdata\\local\\programs\\python\\python39\\lib\\site-packages (from pytest-sugar) (2.0.1)\n",
      "Requirement already satisfied: pyparsing!=3.0.5,>=2.0.2 in c:\\users\\pedro\\appdata\\local\\programs\\python\\python39\\lib\\site-packages (from packaging->pytest) (3.0.9)\n",
      "Note: you may need to restart the kernel to use updated packages.\n"
     ]
    }
   ],
   "source": [
    "%pip install pytest pytest-sugar"
   ]
  },
  {
   "cell_type": "code",
   "execution_count": 3,
   "metadata": {},
   "outputs": [
    {
     "name": "stdout",
     "output_type": "stream",
     "text": [
      "Overwriting test_data.py\n"
     ]
    }
   ],
   "source": [
    "%%file test_data.py\n",
    "import pytest\n",
    "\n",
    "def twoNumberSum(array, targetSum):\n",
    "  \"\"\"\n",
    "  Description:\n",
    "  A function that take in a non-empty array of distinct integers\n",
    "  and an integer representing a target sum. If any two numbers \n",
    "  in the input array sum up to the target sum, the function should\n",
    "  return then in an array, in any order. \n",
    "  If no two numbers sum up to the target sum, \n",
    "  the function should return an empty array.\n",
    "\n",
    "  Parameters:\n",
    "  array <list>: list of integers\n",
    "  targetSum <integer>: integer representing a target sum\n",
    "\n",
    "  Return:\n",
    "  Interger pair which sum is equal to targetSum\n",
    "  empty otherwise\n",
    "  \"\"\"\n",
    "  solution = {}\n",
    "  for current_value in array:\n",
    "    y = targetSum - current_value\n",
    "    if (y not in solution):\n",
    "        solution[current_value] = True\n",
    "    else:\n",
    "        return [y ,current_value]\n",
    "  return []     \n",
    "\n",
    "\n",
    "@pytest.fixture(scope=\"session\")\n",
    "def data():\n",
    "    \n",
    "    array = []\n",
    "    \n",
    "    # test 1 data\n",
    "    array.append([3, 5, -4, 8, 11, 1, -1, 6])\n",
    "\n",
    "    # test 2 data\n",
    "    array.append([4, 6, 1, -3])\n",
    "\n",
    "    # test 3 data\n",
    "    array.append([1, 2, 3, 4, 5, 6, 7, 8, 9, 15])\n",
    "\n",
    "    # test 4 data\n",
    "    array.append([15])\n",
    "\n",
    "    # test 5 data\n",
    "    array.append([-21, 301, 12, 4, 65, 56, 210, 356, 9, -47])\n",
    "\n",
    "    # test 6 data\n",
    "    array.append([-21, 301, 12, 4, 65, 56, 210, 356, 9, -47])\n",
    "\n",
    "    # test 7 data\n",
    "    array.append([-7, -5, -3, -1, 0, 1, 3, 5, 7])\n",
    "    \n",
    "    return array\n",
    "\n",
    "def test_1(data):\n",
    "    \"\"\"\n",
    "    Test evaluation for [3, 5, -4, 8, 11, 1, -1, 6] and target 10\n",
    "    \"\"\"\n",
    "    assert twoNumberSum(data[0],10) == [11,-1]\n",
    "\n",
    "\n",
    "def test_2(data):\n",
    "    \"\"\"\n",
    "    Test evaluation for [4, 6, 1, -3] and target 3\n",
    "    \"\"\"\n",
    "    assert twoNumberSum(data[1],3) == [6,-3]\n",
    "\n",
    "def test_3(data):\n",
    "    \"\"\"\n",
    "    Test evaluation for [1, 2, 3, 4, 5, 6, 7, 8, 9, 15] and target 26\n",
    "    \"\"\"\n",
    "    assert twoNumberSum(data[2],26) == []\n",
    "\n",
    "def test_4(data):\n",
    "    \"\"\"\n",
    "    Test evaluation for [15] and target 15\n",
    "    \"\"\"\n",
    "    assert twoNumberSum(data[3],15) == []\n",
    "\n",
    "def test_5(data):\n",
    "    \"\"\"\n",
    "    Test evaluation for [-21, 301, 12, 4, 65, 56, 210, 356, 9, -47] and target 164\n",
    "    \"\"\"\n",
    "    assert twoNumberSum(data[4],164) == [] \n",
    "\n",
    "def test_6(data):\n",
    "    \"\"\"\n",
    "    Test evaluation for [-21, 301, 12, 4, 65, 56, 210, 356, 9, -47] and target 163\n",
    "    \"\"\"\n",
    "    assert twoNumberSum(data[5],163) == [210, -47] \n",
    "\n",
    "def test_7(data):\n",
    "    \"\"\"\n",
    "    Test evaluation for [-7, -5, -3, -1, 0, 1, 3, 5, 7] and target -5\n",
    "    \"\"\"\n",
    "    assert twoNumberSum(data[6],-5) == [-5, 0]"
   ]
  },
  {
   "cell_type": "code",
   "execution_count": 4,
   "metadata": {},
   "outputs": [
    {
     "name": "stdout",
     "output_type": "stream",
     "text": [
      "============================= test session starts =============================\n",
      "platform win32 -- Python 3.9.5, pytest-7.1.3, pluggy-1.0.0 -- c:\\users\\pedro\\appdata\\local\\programs\\python\\python39\\python.exe\n",
      "cachedir: .pytest_cache\n",
      "rootdir: d:\\Estudos\\1 - UFRN\\2022\\2022.2\\AEDII\\DCA0209_Datastructure_II\\week03\n",
      "plugins: sugar-0.9.5\n",
      "collecting ... collected 7 items\n",
      "\n",
      "test_data.py::test_1 PASSED                                              [ 14%]\n",
      "test_data.py::test_2 PASSED                                              [ 28%]\n",
      "test_data.py::test_3 PASSED                                              [ 42%]\n",
      "test_data.py::test_4 PASSED                                              [ 57%]\n",
      "test_data.py::test_5 PASSED                                              [ 71%]\n",
      "test_data.py::test_6 PASSED                                              [ 85%]\n",
      "test_data.py::test_7 PASSED                                              [100%]\n",
      "\n",
      "============================== 7 passed in 0.08s ==============================\n"
     ]
    }
   ],
   "source": [
    "!pytest . -vv"
   ]
  }
 ],
 "metadata": {
  "kernelspec": {
   "display_name": "Python 3.9.5 64-bit",
   "language": "python",
   "name": "python3"
  },
  "language_info": {
   "codemirror_mode": {
    "name": "ipython",
    "version": 3
   },
   "file_extension": ".py",
   "mimetype": "text/x-python",
   "name": "python",
   "nbconvert_exporter": "python",
   "pygments_lexer": "ipython3",
   "version": "3.9.5"
  },
  "orig_nbformat": 4,
  "vscode": {
   "interpreter": {
    "hash": "b1f8a6fcfad2dbcea449451b8abb957fc6ba936417d4b53d6b4b7c7246c13c98"
   }
  }
 },
 "nbformat": 4,
 "nbformat_minor": 2
}
