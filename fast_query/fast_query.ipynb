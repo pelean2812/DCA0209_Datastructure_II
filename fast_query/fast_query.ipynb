{
 "cells": [
  {
   "cell_type": "markdown",
   "metadata": {},
   "source": [
    "Três funções principais serão implementadas e avaliadas/comparadas o desempenho de forma similar ao que foi implementado no \"Guided Project: Building Fast Queries on a CSV\" (presente no curso \"Algorithm Complexity\"):\n",
    "\n",
    "- 1) dado um id de uma mensagem no Reddit, retornar todas as informações sobre a mensagem; \n",
    "- 2) dado um limite inferior e superior da coluna \"sentiment\", retornar todas as mensagens com valores de sentimento entre os limites inferior e superior; \n",
    "- 3) dado um valor de parâmetro, retornar duas mensagens cuja soma do valor da coluna \"score\" é igual ao parâmetro. Retornar -1 se não existir. \n",
    "\n",
    "- Implementar testes com o pytest para fins de validação."
   ]
  },
  {
   "cell_type": "code",
   "execution_count": 11,
   "metadata": {},
   "outputs": [
    {
     "name": "stdout",
     "output_type": "stream",
     "text": [
      "Requirement already satisfied: pytest in c:\\users\\pedro\\appdata\\local\\programs\\python\\python39\\lib\\site-packages (7.1.3)\n",
      "Requirement already satisfied: pytest-sugar in c:\\users\\pedro\\appdata\\local\\programs\\python\\python39\\lib\\site-packages (0.9.5)\n",
      "Requirement already satisfied: iniconfig in c:\\users\\pedro\\appdata\\local\\programs\\python\\python39\\lib\\site-packages (from pytest) (1.1.1)\n",
      "Requirement already satisfied: colorama in c:\\users\\pedro\\appdata\\local\\programs\\python\\python39\\lib\\site-packages (from pytest) (0.4.5)\n",
      "Requirement already satisfied: tomli>=1.0.0 in c:\\users\\pedro\\appdata\\local\\programs\\python\\python39\\lib\\site-packages (from pytest) (2.0.1)\n",
      "Requirement already satisfied: packaging in c:\\users\\pedro\\appdata\\local\\programs\\python\\python39\\lib\\site-packages (from pytest) (21.3)\n",
      "Requirement already satisfied: attrs>=19.2.0 in c:\\users\\pedro\\appdata\\local\\programs\\python\\python39\\lib\\site-packages (from pytest) (22.1.0)\n",
      "Requirement already satisfied: py>=1.8.2 in c:\\users\\pedro\\appdata\\local\\programs\\python\\python39\\lib\\site-packages (from pytest) (1.11.0)\n",
      "Requirement already satisfied: pluggy<2.0,>=0.12 in c:\\users\\pedro\\appdata\\local\\programs\\python\\python39\\lib\\site-packages (from pytest) (1.0.0)\n",
      "Requirement already satisfied: termcolor>=1.1.0 in c:\\users\\pedro\\appdata\\local\\programs\\python\\python39\\lib\\site-packages (from pytest-sugar) (2.0.1)\n",
      "Requirement already satisfied: pyparsing!=3.0.5,>=2.0.2 in c:\\users\\pedro\\appdata\\local\\programs\\python\\python39\\lib\\site-packages (from packaging->pytest) (3.0.9)\n",
      "Note: you may need to restart the kernel to use updated packages.\n"
     ]
    }
   ],
   "source": [
    "import csv \n",
    "import time\n",
    "import random\n",
    "\n",
    "%pip install pytest pytest-sugar"
   ]
  },
  {
   "cell_type": "code",
   "execution_count": 18,
   "metadata": {},
   "outputs": [],
   "source": [
    "def row_sentiment(row):\n",
    "    return row[8]\n",
    "\n",
    "class ClimateChange():\n",
    "    def __init__(self, dataset):\n",
    "        with open(dataset, encoding = 'utf-8') as file:\n",
    "            reader = csv.reader(file)\n",
    "            rows = list(reader)\n",
    "        self.header = rows[0]\n",
    "        self.rows = rows[1:]\n",
    "\n",
    "        self.id_to_row = {}\n",
    "        for row in self.rows:\n",
    "            self.id_to_row[row[0]] = row\n",
    "\n",
    "    def get_message_from_id(self, message_id):\n",
    "        for row in self.rows:\n",
    "            if(row[0] == message_id):\n",
    "                return row\n",
    "        return None\n",
    "    \n",
    "    def get_message_from_id_fast(self, message_id):\n",
    "        if(message_id in self.id_to_row):\n",
    "            return self.id_to_row[message_id]\n",
    "        return None "
   ]
  },
  {
   "cell_type": "code",
   "execution_count": 17,
   "metadata": {},
   "outputs": [],
   "source": [
    "climateChange = ClimateChange('the_reddit_climate_change_dataset_comments.csv')"
   ]
  },
  {
   "cell_type": "code",
   "execution_count": 25,
   "metadata": {},
   "outputs": [
    {
     "name": "stdout",
     "output_type": "stream",
     "text": [
      "['type', 'id', 'subreddit.id', 'subreddit.name', 'subreddit.nsfw', 'created_utc', 'permalink', 'body', 'sentiment', 'score']\n",
      "['comment', 'imlddn9', '2qh3l', 'news', 'false', '1661990368', 'https://old.reddit.com/r/news/comments/x2cszk/us_life_expectancy_down_for_secondstraight_year/imlddn9/', 'Yeah but what the above commenter is saying is their base doesn’t want any of that. They detest all of those things, even the small gradual changes. Investing in nuclear energy is a tacit acknowledgement of man made climate change. Any acknowledgement or concession and they will be primaried out in a minute', '0.5719', '2']\n"
     ]
    }
   ],
   "source": [
    "print(climateChange.header)\n",
    "print(climateChange.rows[0])"
   ]
  }
 ],
 "metadata": {
  "kernelspec": {
   "display_name": "Python 3.9.5 64-bit",
   "language": "python",
   "name": "python3"
  },
  "language_info": {
   "codemirror_mode": {
    "name": "ipython",
    "version": 3
   },
   "file_extension": ".py",
   "mimetype": "text/x-python",
   "name": "python",
   "nbconvert_exporter": "python",
   "pygments_lexer": "ipython3",
   "version": "3.9.5"
  },
  "orig_nbformat": 4,
  "vscode": {
   "interpreter": {
    "hash": "b1f8a6fcfad2dbcea449451b8abb957fc6ba936417d4b53d6b4b7c7246c13c98"
   }
  }
 },
 "nbformat": 4,
 "nbformat_minor": 2
}
